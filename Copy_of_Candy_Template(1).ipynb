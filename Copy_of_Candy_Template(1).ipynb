{
  "cells": [
    {
      "cell_type": "markdown",
      "metadata": {
        "id": "xSbmr9ac26oL"
      },
      "source": [
        "# Project: cleanning - [candy data]\n",
        "### this notebook is for educational purpose . in this notebook we will do some cleanning\n",
        "\n",
        "## Table of Contents\n",
        "<ul>\n",
        "<li><a href=\"#intro\">Introduction</a></li>\n",
        "<li><a href=\"#wrangling\">wrangling</a></li>\n",
        "  \n",
        "</ul>"
      ]
    },
    {
      "cell_type": "markdown",
      "metadata": {
        "id": "KK1zJovY26oP"
      },
      "source": [
        "<a id='intro'></a>\n",
        "## Introduction\n",
        "\n",
        "### Dataset Description \n",
        "\n",
        "> i will go through candy data 2017 , this data has :\n",
        "- Internal_ID\n",
        "- Q1-Going Out?: Are you actually going trick or treating yourself? \"has values `Yes or No`\"\n",
        "- Q2-Gender: It has four different options, `Femal ,Male ,Other ,I'd rather not say`\n",
        "- Q3-Age: Numerical field\n",
        "- Q4-Country: Text Field, but users have written their own version of the names. Example, for America, there are entries such as USA, us, US, America so we should consider that while cleanning\n",
        "- Q5-State/Province: Text Field, but users have written their own version of the names. Same as the country data.\n",
        "- Q6-Joy Or Despair: All kinds of chocolate bars are the questions with three distinct options to choose from (Joy, Meh, Despair).\n",
        "- Q7-Joy Other: Text Field to write items not included above that give you JOY. Lots of missing values.\n",
        "- Q8-Despair Other: Text Field ti write items not included above that give you DESPAIR. Lots of missing values.\n",
        "- Q9-Other Comments: Text Field. Lots of missing values.\n",
        "- Q10-Dress: Binary field. Missing values present\n",
        "- Unnamed: 113\n",
        "- Q11-Day: Binary Answer Field. Missing values present\n"
      ]
    },
    {
      "cell_type": "markdown",
      "metadata": {
        "id": "E1BeY-RN26oT"
      },
      "source": [
        "# 1- import packages and load data"
      ]
    },
    {
      "cell_type": "code",
      "execution_count": 3,
      "metadata": {
        "id": "qUKWldQZ26oU",
        "colab": {
          "base_uri": "https://localhost:8080/",
          "height": 940
        },
        "outputId": "245ffdbe-b0f8-4ca4-fa7d-edb07f16f782"
      },
      "outputs": [
        {
          "output_type": "execute_result",
          "data": {
            "text/plain": [
              "      Internal ID Q1: GOING OUT? Q2: GENDER Q3: AGE    Q4: COUNTRY  \\\n",
              "0        90258773            NaN        NaN     NaN            NaN   \n",
              "1        90272821             No       Male      44           USA    \n",
              "2        90272829            NaN       Male      49            USA   \n",
              "3        90272840             No       Male      40             us   \n",
              "4        90272841             No       Male      23            usa   \n",
              "...           ...            ...        ...     ...            ...   \n",
              "1962     90284304             No       Male      36            USA   \n",
              "1963     90284318             No       Male      49            USA   \n",
              "1964     90284354             No     Female      36    Switzerland   \n",
              "1965     90284362             No       Male      31            usa   \n",
              "1966     90284369             No       Male      47  United States   \n",
              "\n",
              "     Q5: STATE, PROVINCE, COUNTY, ETC Q6 | 100 Grand Bar  \\\n",
              "0                                 NaN                NaN   \n",
              "1                                  NM                MEH   \n",
              "2                            Virginia                NaN   \n",
              "3                                  or                MEH   \n",
              "4                            exton pa                JOY   \n",
              "...                               ...                ...   \n",
              "1962                       California                MEH   \n",
              "1963                               CA                NaN   \n",
              "1964                             Vaud                MEH   \n",
              "1965                               ny                MEH   \n",
              "1966                         New York                JOY   \n",
              "\n",
              "     Q6 | Anonymous brown globs that come in black and orange wrappers\\t(a.k.a. Mary Janes)  \\\n",
              "0                                                   NaN                                       \n",
              "1                                               DESPAIR                                       \n",
              "2                                                   NaN                                       \n",
              "3                                               DESPAIR                                       \n",
              "4                                               DESPAIR                                       \n",
              "...                                                 ...                                       \n",
              "1962                                            DESPAIR                                       \n",
              "1963                                                NaN                                       \n",
              "1964                                            DESPAIR                                       \n",
              "1965                                            DESPAIR                                       \n",
              "1966                                            DESPAIR                                       \n",
              "\n",
              "     Q6 | Any full-sized candy bar Q6 | Black Jacks  ...  Q8: DESPAIR OTHER  \\\n",
              "0                              NaN              NaN  ...                NaN   \n",
              "1                              JOY              MEH  ...                NaN   \n",
              "2                              NaN              NaN  ...                NaN   \n",
              "3                              JOY              MEH  ...                NaN   \n",
              "4                              JOY          DESPAIR  ...                NaN   \n",
              "...                            ...              ...  ...                ...   \n",
              "1962                           JOY              MEH  ...                NaN   \n",
              "1963                           NaN              NaN  ...                NaN   \n",
              "1964                           JOY              MEH  ...                NaN   \n",
              "1965                           JOY          DESPAIR  ...                NaN   \n",
              "1966                           JOY          DESPAIR  ...  Used dog poo bags   \n",
              "\n",
              "                                     Q9: OTHER COMMENTS      Q10: DRESS  \\\n",
              "0                                                   NaN             NaN   \n",
              "1     Bottom line is Twix is really the only candy w...  White and gold   \n",
              "2                                                   NaN             NaN   \n",
              "3                                Raisins can go to hell  White and gold   \n",
              "4                                                   NaN  White and gold   \n",
              "...                                                 ...             ...   \n",
              "1962                                                NaN  White and gold   \n",
              "1963                                                NaN             NaN   \n",
              "1964                                                NaN  White and gold   \n",
              "1965                                                NaN  White and gold   \n",
              "1966  Dark chocolate options of anything always rate...             NaN   \n",
              "\n",
              "     Unnamed: 113 Q11: DAY Q12: MEDIA [Daily Dish] Q12: MEDIA [Science]  \\\n",
              "0             NaN      NaN                     NaN                  NaN   \n",
              "1             NaN   Sunday                     NaN                  1.0   \n",
              "2             NaN      NaN                     NaN                  NaN   \n",
              "3             NaN   Sunday                     NaN                  1.0   \n",
              "4             NaN   Friday                     NaN                  1.0   \n",
              "...           ...      ...                     ...                  ...   \n",
              "1962          NaN   Sunday                     NaN                  1.0   \n",
              "1963          NaN      NaN                     NaN                  NaN   \n",
              "1964          NaN   Friday                     NaN                  NaN   \n",
              "1965          NaN   Sunday                     NaN                  1.0   \n",
              "1966          NaN      NaN                     NaN                  NaN   \n",
              "\n",
              "     Q12: MEDIA [ESPN] Q12: MEDIA [Yahoo] Click Coordinates (x, y)  \n",
              "0                  NaN                NaN                      NaN  \n",
              "1                  NaN                NaN                 (84, 25)  \n",
              "2                  NaN                NaN                      NaN  \n",
              "3                  NaN                NaN                 (75, 23)  \n",
              "4                  NaN                NaN                 (70, 10)  \n",
              "...                ...                ...                      ...  \n",
              "1962               NaN                NaN                 (76, 25)  \n",
              "1963               NaN                NaN                      NaN  \n",
              "1964               NaN                1.0                 (75, 71)  \n",
              "1965               NaN                NaN                 (64, 31)  \n",
              "1966               NaN                NaN                      NaN  \n",
              "\n",
              "[1967 rows x 120 columns]"
            ],
            "text/html": [
              "\n",
              "  <div id=\"df-bd47ee73-c6eb-44ea-8ab2-be0bae8cc6c6\">\n",
              "    <div class=\"colab-df-container\">\n",
              "      <div>\n",
              "<style scoped>\n",
              "    .dataframe tbody tr th:only-of-type {\n",
              "        vertical-align: middle;\n",
              "    }\n",
              "\n",
              "    .dataframe tbody tr th {\n",
              "        vertical-align: top;\n",
              "    }\n",
              "\n",
              "    .dataframe thead th {\n",
              "        text-align: right;\n",
              "    }\n",
              "</style>\n",
              "<table border=\"1\" class=\"dataframe\">\n",
              "  <thead>\n",
              "    <tr style=\"text-align: right;\">\n",
              "      <th></th>\n",
              "      <th>Internal ID</th>\n",
              "      <th>Q1: GOING OUT?</th>\n",
              "      <th>Q2: GENDER</th>\n",
              "      <th>Q3: AGE</th>\n",
              "      <th>Q4: COUNTRY</th>\n",
              "      <th>Q5: STATE, PROVINCE, COUNTY, ETC</th>\n",
              "      <th>Q6 | 100 Grand Bar</th>\n",
              "      <th>Q6 | Anonymous brown globs that come in black and orange wrappers\\t(a.k.a. Mary Janes)</th>\n",
              "      <th>Q6 | Any full-sized candy bar</th>\n",
              "      <th>Q6 | Black Jacks</th>\n",
              "      <th>...</th>\n",
              "      <th>Q8: DESPAIR OTHER</th>\n",
              "      <th>Q9: OTHER COMMENTS</th>\n",
              "      <th>Q10: DRESS</th>\n",
              "      <th>Unnamed: 113</th>\n",
              "      <th>Q11: DAY</th>\n",
              "      <th>Q12: MEDIA [Daily Dish]</th>\n",
              "      <th>Q12: MEDIA [Science]</th>\n",
              "      <th>Q12: MEDIA [ESPN]</th>\n",
              "      <th>Q12: MEDIA [Yahoo]</th>\n",
              "      <th>Click Coordinates (x, y)</th>\n",
              "    </tr>\n",
              "  </thead>\n",
              "  <tbody>\n",
              "    <tr>\n",
              "      <th>0</th>\n",
              "      <td>90258773</td>\n",
              "      <td>NaN</td>\n",
              "      <td>NaN</td>\n",
              "      <td>NaN</td>\n",
              "      <td>NaN</td>\n",
              "      <td>NaN</td>\n",
              "      <td>NaN</td>\n",
              "      <td>NaN</td>\n",
              "      <td>NaN</td>\n",
              "      <td>NaN</td>\n",
              "      <td>...</td>\n",
              "      <td>NaN</td>\n",
              "      <td>NaN</td>\n",
              "      <td>NaN</td>\n",
              "      <td>NaN</td>\n",
              "      <td>NaN</td>\n",
              "      <td>NaN</td>\n",
              "      <td>NaN</td>\n",
              "      <td>NaN</td>\n",
              "      <td>NaN</td>\n",
              "      <td>NaN</td>\n",
              "    </tr>\n",
              "    <tr>\n",
              "      <th>1</th>\n",
              "      <td>90272821</td>\n",
              "      <td>No</td>\n",
              "      <td>Male</td>\n",
              "      <td>44</td>\n",
              "      <td>USA</td>\n",
              "      <td>NM</td>\n",
              "      <td>MEH</td>\n",
              "      <td>DESPAIR</td>\n",
              "      <td>JOY</td>\n",
              "      <td>MEH</td>\n",
              "      <td>...</td>\n",
              "      <td>NaN</td>\n",
              "      <td>Bottom line is Twix is really the only candy w...</td>\n",
              "      <td>White and gold</td>\n",
              "      <td>NaN</td>\n",
              "      <td>Sunday</td>\n",
              "      <td>NaN</td>\n",
              "      <td>1.0</td>\n",
              "      <td>NaN</td>\n",
              "      <td>NaN</td>\n",
              "      <td>(84, 25)</td>\n",
              "    </tr>\n",
              "    <tr>\n",
              "      <th>2</th>\n",
              "      <td>90272829</td>\n",
              "      <td>NaN</td>\n",
              "      <td>Male</td>\n",
              "      <td>49</td>\n",
              "      <td>USA</td>\n",
              "      <td>Virginia</td>\n",
              "      <td>NaN</td>\n",
              "      <td>NaN</td>\n",
              "      <td>NaN</td>\n",
              "      <td>NaN</td>\n",
              "      <td>...</td>\n",
              "      <td>NaN</td>\n",
              "      <td>NaN</td>\n",
              "      <td>NaN</td>\n",
              "      <td>NaN</td>\n",
              "      <td>NaN</td>\n",
              "      <td>NaN</td>\n",
              "      <td>NaN</td>\n",
              "      <td>NaN</td>\n",
              "      <td>NaN</td>\n",
              "      <td>NaN</td>\n",
              "    </tr>\n",
              "    <tr>\n",
              "      <th>3</th>\n",
              "      <td>90272840</td>\n",
              "      <td>No</td>\n",
              "      <td>Male</td>\n",
              "      <td>40</td>\n",
              "      <td>us</td>\n",
              "      <td>or</td>\n",
              "      <td>MEH</td>\n",
              "      <td>DESPAIR</td>\n",
              "      <td>JOY</td>\n",
              "      <td>MEH</td>\n",
              "      <td>...</td>\n",
              "      <td>NaN</td>\n",
              "      <td>Raisins can go to hell</td>\n",
              "      <td>White and gold</td>\n",
              "      <td>NaN</td>\n",
              "      <td>Sunday</td>\n",
              "      <td>NaN</td>\n",
              "      <td>1.0</td>\n",
              "      <td>NaN</td>\n",
              "      <td>NaN</td>\n",
              "      <td>(75, 23)</td>\n",
              "    </tr>\n",
              "    <tr>\n",
              "      <th>4</th>\n",
              "      <td>90272841</td>\n",
              "      <td>No</td>\n",
              "      <td>Male</td>\n",
              "      <td>23</td>\n",
              "      <td>usa</td>\n",
              "      <td>exton pa</td>\n",
              "      <td>JOY</td>\n",
              "      <td>DESPAIR</td>\n",
              "      <td>JOY</td>\n",
              "      <td>DESPAIR</td>\n",
              "      <td>...</td>\n",
              "      <td>NaN</td>\n",
              "      <td>NaN</td>\n",
              "      <td>White and gold</td>\n",
              "      <td>NaN</td>\n",
              "      <td>Friday</td>\n",
              "      <td>NaN</td>\n",
              "      <td>1.0</td>\n",
              "      <td>NaN</td>\n",
              "      <td>NaN</td>\n",
              "      <td>(70, 10)</td>\n",
              "    </tr>\n",
              "    <tr>\n",
              "      <th>...</th>\n",
              "      <td>...</td>\n",
              "      <td>...</td>\n",
              "      <td>...</td>\n",
              "      <td>...</td>\n",
              "      <td>...</td>\n",
              "      <td>...</td>\n",
              "      <td>...</td>\n",
              "      <td>...</td>\n",
              "      <td>...</td>\n",
              "      <td>...</td>\n",
              "      <td>...</td>\n",
              "      <td>...</td>\n",
              "      <td>...</td>\n",
              "      <td>...</td>\n",
              "      <td>...</td>\n",
              "      <td>...</td>\n",
              "      <td>...</td>\n",
              "      <td>...</td>\n",
              "      <td>...</td>\n",
              "      <td>...</td>\n",
              "      <td>...</td>\n",
              "    </tr>\n",
              "    <tr>\n",
              "      <th>1962</th>\n",
              "      <td>90284304</td>\n",
              "      <td>No</td>\n",
              "      <td>Male</td>\n",
              "      <td>36</td>\n",
              "      <td>USA</td>\n",
              "      <td>California</td>\n",
              "      <td>MEH</td>\n",
              "      <td>DESPAIR</td>\n",
              "      <td>JOY</td>\n",
              "      <td>MEH</td>\n",
              "      <td>...</td>\n",
              "      <td>NaN</td>\n",
              "      <td>NaN</td>\n",
              "      <td>White and gold</td>\n",
              "      <td>NaN</td>\n",
              "      <td>Sunday</td>\n",
              "      <td>NaN</td>\n",
              "      <td>1.0</td>\n",
              "      <td>NaN</td>\n",
              "      <td>NaN</td>\n",
              "      <td>(76, 25)</td>\n",
              "    </tr>\n",
              "    <tr>\n",
              "      <th>1963</th>\n",
              "      <td>90284318</td>\n",
              "      <td>No</td>\n",
              "      <td>Male</td>\n",
              "      <td>49</td>\n",
              "      <td>USA</td>\n",
              "      <td>CA</td>\n",
              "      <td>NaN</td>\n",
              "      <td>NaN</td>\n",
              "      <td>NaN</td>\n",
              "      <td>NaN</td>\n",
              "      <td>...</td>\n",
              "      <td>NaN</td>\n",
              "      <td>NaN</td>\n",
              "      <td>NaN</td>\n",
              "      <td>NaN</td>\n",
              "      <td>NaN</td>\n",
              "      <td>NaN</td>\n",
              "      <td>NaN</td>\n",
              "      <td>NaN</td>\n",
              "      <td>NaN</td>\n",
              "      <td>NaN</td>\n",
              "    </tr>\n",
              "    <tr>\n",
              "      <th>1964</th>\n",
              "      <td>90284354</td>\n",
              "      <td>No</td>\n",
              "      <td>Female</td>\n",
              "      <td>36</td>\n",
              "      <td>Switzerland</td>\n",
              "      <td>Vaud</td>\n",
              "      <td>MEH</td>\n",
              "      <td>DESPAIR</td>\n",
              "      <td>JOY</td>\n",
              "      <td>MEH</td>\n",
              "      <td>...</td>\n",
              "      <td>NaN</td>\n",
              "      <td>NaN</td>\n",
              "      <td>White and gold</td>\n",
              "      <td>NaN</td>\n",
              "      <td>Friday</td>\n",
              "      <td>NaN</td>\n",
              "      <td>NaN</td>\n",
              "      <td>NaN</td>\n",
              "      <td>1.0</td>\n",
              "      <td>(75, 71)</td>\n",
              "    </tr>\n",
              "    <tr>\n",
              "      <th>1965</th>\n",
              "      <td>90284362</td>\n",
              "      <td>No</td>\n",
              "      <td>Male</td>\n",
              "      <td>31</td>\n",
              "      <td>usa</td>\n",
              "      <td>ny</td>\n",
              "      <td>MEH</td>\n",
              "      <td>DESPAIR</td>\n",
              "      <td>JOY</td>\n",
              "      <td>DESPAIR</td>\n",
              "      <td>...</td>\n",
              "      <td>NaN</td>\n",
              "      <td>NaN</td>\n",
              "      <td>White and gold</td>\n",
              "      <td>NaN</td>\n",
              "      <td>Sunday</td>\n",
              "      <td>NaN</td>\n",
              "      <td>1.0</td>\n",
              "      <td>NaN</td>\n",
              "      <td>NaN</td>\n",
              "      <td>(64, 31)</td>\n",
              "    </tr>\n",
              "    <tr>\n",
              "      <th>1966</th>\n",
              "      <td>90284369</td>\n",
              "      <td>No</td>\n",
              "      <td>Male</td>\n",
              "      <td>47</td>\n",
              "      <td>United States</td>\n",
              "      <td>New York</td>\n",
              "      <td>JOY</td>\n",
              "      <td>DESPAIR</td>\n",
              "      <td>JOY</td>\n",
              "      <td>DESPAIR</td>\n",
              "      <td>...</td>\n",
              "      <td>Used dog poo bags</td>\n",
              "      <td>Dark chocolate options of anything always rate...</td>\n",
              "      <td>NaN</td>\n",
              "      <td>NaN</td>\n",
              "      <td>NaN</td>\n",
              "      <td>NaN</td>\n",
              "      <td>NaN</td>\n",
              "      <td>NaN</td>\n",
              "      <td>NaN</td>\n",
              "      <td>NaN</td>\n",
              "    </tr>\n",
              "  </tbody>\n",
              "</table>\n",
              "<p>1967 rows × 120 columns</p>\n",
              "</div>\n",
              "      <button class=\"colab-df-convert\" onclick=\"convertToInteractive('df-bd47ee73-c6eb-44ea-8ab2-be0bae8cc6c6')\"\n",
              "              title=\"Convert this dataframe to an interactive table.\"\n",
              "              style=\"display:none;\">\n",
              "        \n",
              "  <svg xmlns=\"http://www.w3.org/2000/svg\" height=\"24px\"viewBox=\"0 0 24 24\"\n",
              "       width=\"24px\">\n",
              "    <path d=\"M0 0h24v24H0V0z\" fill=\"none\"/>\n",
              "    <path d=\"M18.56 5.44l.94 2.06.94-2.06 2.06-.94-2.06-.94-.94-2.06-.94 2.06-2.06.94zm-11 1L8.5 8.5l.94-2.06 2.06-.94-2.06-.94L8.5 2.5l-.94 2.06-2.06.94zm10 10l.94 2.06.94-2.06 2.06-.94-2.06-.94-.94-2.06-.94 2.06-2.06.94z\"/><path d=\"M17.41 7.96l-1.37-1.37c-.4-.4-.92-.59-1.43-.59-.52 0-1.04.2-1.43.59L10.3 9.45l-7.72 7.72c-.78.78-.78 2.05 0 2.83L4 21.41c.39.39.9.59 1.41.59.51 0 1.02-.2 1.41-.59l7.78-7.78 2.81-2.81c.8-.78.8-2.07 0-2.86zM5.41 20L4 18.59l7.72-7.72 1.47 1.35L5.41 20z\"/>\n",
              "  </svg>\n",
              "      </button>\n",
              "      \n",
              "  <style>\n",
              "    .colab-df-container {\n",
              "      display:flex;\n",
              "      flex-wrap:wrap;\n",
              "      gap: 12px;\n",
              "    }\n",
              "\n",
              "    .colab-df-convert {\n",
              "      background-color: #E8F0FE;\n",
              "      border: none;\n",
              "      border-radius: 50%;\n",
              "      cursor: pointer;\n",
              "      display: none;\n",
              "      fill: #1967D2;\n",
              "      height: 32px;\n",
              "      padding: 0 0 0 0;\n",
              "      width: 32px;\n",
              "    }\n",
              "\n",
              "    .colab-df-convert:hover {\n",
              "      background-color: #E2EBFA;\n",
              "      box-shadow: 0px 1px 2px rgba(60, 64, 67, 0.3), 0px 1px 3px 1px rgba(60, 64, 67, 0.15);\n",
              "      fill: #174EA6;\n",
              "    }\n",
              "\n",
              "    [theme=dark] .colab-df-convert {\n",
              "      background-color: #3B4455;\n",
              "      fill: #D2E3FC;\n",
              "    }\n",
              "\n",
              "    [theme=dark] .colab-df-convert:hover {\n",
              "      background-color: #434B5C;\n",
              "      box-shadow: 0px 1px 3px 1px rgba(0, 0, 0, 0.15);\n",
              "      filter: drop-shadow(0px 1px 2px rgba(0, 0, 0, 0.3));\n",
              "      fill: #FFFFFF;\n",
              "    }\n",
              "  </style>\n",
              "\n",
              "      <script>\n",
              "        const buttonEl =\n",
              "          document.querySelector('#df-bd47ee73-c6eb-44ea-8ab2-be0bae8cc6c6 button.colab-df-convert');\n",
              "        buttonEl.style.display =\n",
              "          google.colab.kernel.accessAllowed ? 'block' : 'none';\n",
              "\n",
              "        async function convertToInteractive(key) {\n",
              "          const element = document.querySelector('#df-bd47ee73-c6eb-44ea-8ab2-be0bae8cc6c6');\n",
              "          const dataTable =\n",
              "            await google.colab.kernel.invokeFunction('convertToInteractive',\n",
              "                                                     [key], {});\n",
              "          if (!dataTable) return;\n",
              "\n",
              "          const docLinkHtml = 'Like what you see? Visit the ' +\n",
              "            '<a target=\"_blank\" href=https://colab.research.google.com/notebooks/data_table.ipynb>data table notebook</a>'\n",
              "            + ' to learn more about interactive tables.';\n",
              "          element.innerHTML = '';\n",
              "          dataTable['output_type'] = 'display_data';\n",
              "          await google.colab.output.renderOutput(dataTable, element);\n",
              "          const docLink = document.createElement('div');\n",
              "          docLink.innerHTML = docLinkHtml;\n",
              "          element.appendChild(docLink);\n",
              "        }\n",
              "      </script>\n",
              "    </div>\n",
              "  </div>\n",
              "  "
            ]
          },
          "metadata": {},
          "execution_count": 3
        }
      ],
      "source": [
        "import pandas as pd \n",
        "import seaborn as sns\n",
        "import matplotlib.pyplot as plt\n",
        "import numpy as np\n",
        "\n",
        "\n",
        "df = pd.read_csv(\"candyhierarchy2017.csv\",encoding = 'cp1252')\n",
        "df\n"
      ]
    },
    {
      "cell_type": "markdown",
      "metadata": {
        "id": "IRrD3dAh26oW"
      },
      "source": [
        "<a id='wrangling'></a>\n",
        "## Data Wrangling\n",
        "\n",
        "\n",
        "\n",
        "### General Properties"
      ]
    },
    {
      "cell_type": "markdown",
      "metadata": {
        "id": "gOq0BHyl26oY"
      },
      "source": [
        "# 2- show some general properties for the data "
      ]
    },
    {
      "cell_type": "code",
      "execution_count": null,
      "metadata": {
        "id": "0Aq04hjw26oa",
        "colab": {
          "base_uri": "https://localhost:8080/"
        },
        "outputId": "afd2dd18-8277-4b72-d568-5f11f9acce11"
      },
      "outputs": [
        {
          "output_type": "execute_result",
          "data": {
            "text/plain": [
              "Internal ID                   int64\n",
              "GOING                        object\n",
              "GENDER                       object\n",
              "AGE                          object\n",
              "COUNTRY                      object\n",
              "                             ...   \n",
              "DailyDish                   float64\n",
              "SCIENCE                     float64\n",
              "ESPN                        float64\n",
              "YAHOO                       float64\n",
              "Click Coordinates (x, y)     object\n",
              "Length: 120, dtype: object"
            ]
          },
          "metadata": {},
          "execution_count": 87
        }
      ],
      "source": [
        "df.dtypes\n",
        "#df.sample()\n",
        "#df.isna().sum()\n",
        "#df.describe()\n",
        "#print(df.duplicated().sum())"
      ]
    },
    {
      "cell_type": "markdown",
      "metadata": {
        "id": "XqbxHkP326oc"
      },
      "source": [
        "# 3- write summary about what you get form the above functions\n",
        "> #### tips : this summary can be about : if there is any missing values , if there a wrong data type , if there a wrong range of values , ...."
      ]
    },
    {
      "cell_type": "code",
      "execution_count": null,
      "metadata": {
        "id": "X4cPjm2X26od"
      },
      "outputs": [],
      "source": [
        "#tthere are lots of nan vlaues , unamed columns , same words written in different ways"
      ]
    },
    {
      "cell_type": "markdown",
      "metadata": {
        "id": "OyOCWGRg26of"
      },
      "source": [
        "# cleaning"
      ]
    },
    {
      "cell_type": "markdown",
      "metadata": {
        "id": "3v5T2mJN26of"
      },
      "source": [
        "### 4- drop all the useless columns and  rows with too much NaN , \n",
        "> tip : useless columns can be like `Internal ID`and can be also columns with too much NaN \n",
        "- rename columns for easy access"
      ]
    },
    {
      "cell_type": "code",
      "execution_count": 4,
      "metadata": {
        "id": "mPGBoER426og",
        "colab": {
          "base_uri": "https://localhost:8080/"
        },
        "outputId": "5cf39b6c-1bf9-4736-8bea-a62bfc7a86b6"
      },
      "outputs": [
        {
          "output_type": "execute_result",
          "data": {
            "text/plain": [
              "Index(['Internal ID', 'GOING', 'GENDER', 'AGE', 'COUNTRY', 'PLACE',\n",
              "       'Q6 | 100 Grand Bar',\n",
              "       'Q6 | Anonymous brown globs that come in black and orange wrappers\\t(a.k.a. Mary Janes)',\n",
              "       'Q6 | Any full-sized candy bar', 'Q6 | Black Jacks',\n",
              "       ...\n",
              "       'DESPAIR OTHER', 'OTHER COMMENTS', 'DRESS', 'Unnamed: 113', 'DAY',\n",
              "       'DailyDish', 'SCIENCE', 'ESPN', 'YAHOO', 'Click Coordinates (x, y)'],\n",
              "      dtype='object', length=120)"
            ]
          },
          "metadata": {},
          "execution_count": 4
        }
      ],
      "source": [
        "df= df.rename(columns = {'Q1: GOING OUT?' :'GOING','Q2: GENDER':'GENDER','Q3: AGE':'AGE','Q4: COUNTRY':'COUNTRY', 'Q5: STATE, PROVINCE, COUNTY, ETC':'PLACE','Q8: DESPAIR OTHER':'DESPAIR OTHER','Q9: OTHER COMMENTS':'OTHER COMMENTS','Q10: DRESS' : 'DRESS','Q11: DAY': 'DAY','Q12: MEDIA [Daily Dish]' : 'DailyDish','Q12: MEDIA [Science]':'SCIENCE','Q12: MEDIA [ESPN]' :'ESPN', 'Q12: MEDIA [Yahoo]': 'YAHOO'})\n",
        "df.columns\n"
      ]
    },
    {
      "cell_type": "markdown",
      "metadata": {
        "id": "k8lzWpIq26oh"
      },
      "source": [
        "### 5 - clean `going out` column \n",
        "> tip : you should choose which best value to put in place of these NaNs ( mode, unknown,other ....etc)"
      ]
    },
    {
      "cell_type": "code",
      "execution_count": null,
      "metadata": {
        "id": "FZh4uAMw26oi",
        "colab": {
          "base_uri": "https://localhost:8080/"
        },
        "outputId": "2c8b76a5-603b-4d58-86dc-c5d877634b20"
      },
      "outputs": [
        {
          "output_type": "execute_result",
          "data": {
            "text/plain": [
              "0       Not Sure\n",
              "1             No\n",
              "2       Not Sure\n",
              "3             No\n",
              "4             No\n",
              "          ...   \n",
              "2455          No\n",
              "2456          No\n",
              "2457          No\n",
              "2458          No\n",
              "2459          No\n",
              "Name: GOING, Length: 2460, dtype: object"
            ]
          },
          "metadata": {},
          "execution_count": 79
        }
      ],
      "source": [
        "df['GOING'].fillna('Not Sure')\n"
      ]
    },
    {
      "cell_type": "markdown",
      "metadata": {
        "id": "Qd-gK0Nn26oj"
      },
      "source": [
        "### 6 - clean ` gender` column \n",
        "> tip : you should choose which best value to put in place of these NaNs ( mode, unknown,other ....etc)"
      ]
    },
    {
      "cell_type": "code",
      "execution_count": null,
      "metadata": {
        "id": "VjeicIBs26oj"
      },
      "outputs": [],
      "source": [
        "df['GENDER']=df['GENDER'].fillna('Iwould rather not say',inplace = True)\n"
      ]
    },
    {
      "cell_type": "markdown",
      "metadata": {
        "id": "kA6lY9P_26ok"
      },
      "source": [
        "### 7 - clean ` age` column \n",
        "> tip : note the type of age column , and NaN values\n",
        " - try to use `to_numeric` \n",
        " - tip : you should choose which best value to put in place of these NaNs ( mean, median, ....etc)"
      ]
    },
    {
      "cell_type": "code",
      "execution_count": null,
      "metadata": {
        "id": "sih-4or326ol",
        "colab": {
          "base_uri": "https://localhost:8080/"
        },
        "outputId": "1b8f7acb-05a9-454d-f7e9-3238c2cdc590"
      },
      "outputs": [
        {
          "output_type": "execute_result",
          "data": {
            "text/plain": [
              "array([ 42.60544449,  44.        ,  49.        ,  40.        ,\n",
              "        23.        ,  53.        ,  33.        ,  43.        ,\n",
              "        56.        ,  64.        ,  37.        ,  59.        ,\n",
              "        48.        ,  54.        ,  36.        ,  45.        ,\n",
              "        25.        ,  34.        ,  35.        ,  38.        ,\n",
              "        58.        ,  50.        ,  47.        ,  16.        ,\n",
              "        52.        ,  63.        ,  65.        ,  41.        ,\n",
              "        27.        ,  31.        ,  61.        ,  46.        ,\n",
              "        42.        ,  62.        ,  29.        ,  39.        ,\n",
              "        32.        ,  28.        ,  69.        ,  67.        ,\n",
              "        30.        ,  22.        ,  26.        ,  51.        ,\n",
              "        70.        ,  24.        ,  18.        ,  19.        ,\n",
              "        57.        ,  60.        ,  66.        ,  12.        ,\n",
              "        55.        ,  72.        ,  21.        ,  11.        ,\n",
              "         9.        ,  68.        ,  20.        ,   6.        ,\n",
              "        10.        ,  71.        ,  90.        ,  13.        ,\n",
              "        42.10634396,  99.        ,   7.        ,  88.        ,\n",
              "        39.4       ,  74.        , 102.        ,  17.        ,\n",
              "        15.        ,   8.        ,  75.        ,  14.        ,\n",
              "       100.        ,  76.        ,  77.        ,  73.        ,\n",
              "         1.        ,   4.        ])"
            ]
          },
          "metadata": {},
          "execution_count": 114
        }
      ],
      "source": [
        "\n",
        "df['AGE'].value_counts()\n",
        "df['AGE'].unique()\n",
        "df['AGE'].replace(['old enough','45-55','24-50','?','no','Many','hahahahaha','older than dirt','Enough','See question 2','old','ancient','old enough','5u','46 Halloweens.','sixty-nine','Over 50','OLD','MY NAME JEFF','59 on the day after Halloween','your mom'\n",
        "                      'I can remember when Java was a cool new language', '60+'],np.nan,inplace=True)\n",
        "df['AGE'].unique()\n",
        "df['AGE'].replace([312,1000,'Old enough','your mom','I can remember when Java was a cool new language','70 1/2'],np.nan,inplace=True)\n",
        "df['AGE'].unique()\n",
        "df['AGE']= pd.to_numeric(df['AGE']) \n",
        "df['AGE']=df['AGE'].fillna(df['AGE'].mean())\n",
        "df['AGE'].unique()"
      ]
    },
    {
      "cell_type": "markdown",
      "metadata": {
        "id": "FAz2MsYY26ol"
      },
      "source": [
        "### 8 - clean ` country` column\n",
        "> tip : note that country column has country names with different writing ways \n",
        "  - use fuzzywuzzy to deal with this problem\n",
        "  - you should choose which best value to put in place of these NaNs ( mode, unknown,other ....etc)"
      ]
    },
    {
      "cell_type": "code",
      "source": [
        "! pip install fuzzywuzzy"
      ],
      "metadata": {
        "colab": {
          "base_uri": "https://localhost:8080/"
        },
        "id": "MRbsdsOK28MJ",
        "outputId": "63213433-56c2-4060-8a56-1947d4b42e92"
      },
      "execution_count": 6,
      "outputs": [
        {
          "output_type": "stream",
          "name": "stdout",
          "text": [
            "Looking in indexes: https://pypi.org/simple, https://us-python.pkg.dev/colab-wheels/public/simple/\n",
            "Collecting fuzzywuzzy\n",
            "  Downloading fuzzywuzzy-0.18.0-py2.py3-none-any.whl (18 kB)\n",
            "Installing collected packages: fuzzywuzzy\n",
            "Successfully installed fuzzywuzzy-0.18.0\n"
          ]
        }
      ]
    },
    {
      "cell_type": "code",
      "source": [
        "df['COUNTRY'].unique()"
      ],
      "metadata": {
        "colab": {
          "base_uri": "https://localhost:8080/"
        },
        "id": "pvtwvvvU4BBH",
        "outputId": "20a26f5f-5a62-4684-a791-4688e804b0e1"
      },
      "execution_count": null,
      "outputs": [
        {
          "output_type": "execute_result",
          "data": {
            "text/plain": [
              "array([nan, 'USA ', 'USA', 'us', 'usa', 'canada', 'Canada', 'Us', 'US',\n",
              "       'Murica', 'United States', 'uk', 'United Kingdom', 'united states',\n",
              "       'Usa', 'United States ', 'United staes',\n",
              "       'United States of America', 'UAE', 'England', 'UK', 'canada ',\n",
              "       'Mexico', 'United states', 'u.s.a.', 'USAUSAUSA', 'america', '35',\n",
              "       'france', 'United States of America ', 'U.S.A.', 'finland',\n",
              "       'unhinged states', 'Canada ', 'united states of america',\n",
              "       'US of A', 'Unites States', 'The United States', 'North Carolina ',\n",
              "       'Unied States', 'Netherlands', 'germany', 'Europe', 'Earth', 'U S',\n",
              "       'u.s.', 'U.K. ', 'Costa Rica', 'The United States of America',\n",
              "       'unite states', 'U.S.', '46', 'cascadia', 'Australia',\n",
              "       'insanity lately', 'Greece', 'USA? Hard to tell anymore..',\n",
              "       \"'merica\", 'usas', 'Pittsburgh', '45', 'United State', '32',\n",
              "       'France', 'australia', 'A', 'Can', 'Canae', 'New York',\n",
              "       'Trumpistan', 'Ireland', 'United Sates', 'Korea', 'California',\n",
              "       'Japan', 'USa', 'South africa',\n",
              "       'I pretend to be from Canada, but I am really from the United States.',\n",
              "       'Usa ', 'Uk', 'Iceland', 'Germany', 'Canada`', 'Scotland', 'UK ',\n",
              "       'Denmark', 'United Stated', 'France ', 'Switzerland',\n",
              "       'Ahem....Amerca', 'UD', 'Scotland ', 'South Korea', 'New Jersey',\n",
              "       'CANADA', 'Indonesia', 'United ststes', 'America',\n",
              "       'The Netherlands', 'United Statss', 'endland', 'Atlantis',\n",
              "       'murrika', 'USA! USA! USA!', 'USAA', 'Alaska', 'united States ',\n",
              "       'soviet canuckistan', 'N. America', 'Singapore', 'USSA', 'China',\n",
              "       'Taiwan', 'Ireland ', 'hong kong', 'spain', 'Sweden', 'Hong Kong',\n",
              "       'U.S. ', 'Narnia', 'u s a', 'United Statea', 'united ststes', '1',\n",
              "       'subscribe to dm4uz3 on youtube', 'United kingdom',\n",
              "       'USA USA USA!!!!', \"I don't know anymore\", 'Fear and Loathing'],\n",
              "      dtype=object)"
            ]
          },
          "metadata": {},
          "execution_count": 14
        }
      ]
    },
    {
      "cell_type": "code",
      "execution_count": 7,
      "metadata": {
        "id": "r7P1R9vX26ol",
        "colab": {
          "base_uri": "https://localhost:8080/"
        },
        "outputId": "ccc45a98-bef2-430c-ba60-422ce51248c7"
      },
      "outputs": [
        {
          "output_type": "stream",
          "name": "stderr",
          "text": [
            "/usr/local/lib/python3.7/dist-packages/fuzzywuzzy/fuzz.py:11: UserWarning: Using slow pure-python SequenceMatcher. Install python-Levenshtein to remove this warning\n",
            "  warnings.warn('Using slow pure-python SequenceMatcher. Install python-Levenshtein to remove this warning')\n"
          ]
        }
      ],
      "source": [
        "df['COUNTRY'].unique()\n",
        "df['COUNTRY']=df['COUNTRY'].str.upper()\n",
        "df['COUNTRY'].unique()\n",
        "df['COUNTRY'].value_counts()\n",
        "\n",
        "from fuzzywuzzy import process\n",
        "country = ['USA','Canda','UK','Mexico','France','Finland','Greece','Netherlands','Germany', 'South Korea','Singapore','China','Spain','Scotland','Switzerland','Sweden','Ireland','Iceland','Australia','England','Tiwan']\n",
        "for Country in country:\n",
        "  matches = process.extract(Country,df['COUNTRY'],limit=len(df['COUNTRY']))\n",
        "  for potential_match in matches:\n",
        "    if potential_match[1] >=80:\n",
        "      df.loc[df['COUNTRY']==potential_match[0]]=Country\n",
        "df['COUNTRY'].fillna('USA',inplace = True)"
      ]
    },
    {
      "cell_type": "markdown",
      "metadata": {
        "id": "kWVMtJg826on"
      },
      "source": [
        "### 9 - clean ` area` column\n",
        "> tip : area column has the same problem as country columns , but looking at all it's unique values may give us another way to deal with it rather than try to fix it"
      ]
    },
    {
      "cell_type": "code",
      "execution_count": 8,
      "metadata": {
        "id": "8G0tnbpj26on"
      },
      "outputs": [],
      "source": [
        "df['PLACE'].value_counts()\n",
        "df['PLACE']=df['PLACE'].str.upper()\n",
        "df['PLACE'].fillna('CALIFORNIA',inplace=True)\n",
        "#we can use the same thing we did with fuzzywuzzy\n"
      ]
    },
    {
      "cell_type": "markdown",
      "metadata": {
        "id": "pIfckJ8_26oo"
      },
      "source": [
        "### 10 - clean ` Q6` columns\n",
        ">- tip : Q6 has all kinds of chocolate bars and questions with three distinct options to choose from (Joy, Meh, Despair).\n",
        "- so all the column that has Q6 is a candy name , so you should go through all these column and you should choose which best value to put in place of these NaNs ( mode, unknown,other ....etc)"
      ]
    },
    {
      "cell_type": "code",
      "execution_count": null,
      "metadata": {
        "id": "cXG27iNv26oo",
        "colab": {
          "base_uri": "https://localhost:8080/",
          "height": 508
        },
        "outputId": "47df0f39-56d0-4592-ad0d-fb5fb859262a"
      },
      "outputs": [
        {
          "output_type": "execute_result",
          "data": {
            "text/plain": [
              "  Q6 | 100 Grand Bar  \\\n",
              "1                MEH   \n",
              "3                MEH   \n",
              "4                JOY   \n",
              "5                JOY   \n",
              "7                JOY   \n",
              "\n",
              "  Q6 | Anonymous brown globs that come in black and orange wrappers\\t(a.k.a. Mary Janes)  \\\n",
              "1                                            DESPAIR                                       \n",
              "3                                            DESPAIR                                       \n",
              "4                                            DESPAIR                                       \n",
              "5                                            DESPAIR                                       \n",
              "7                                            DESPAIR                                       \n",
              "\n",
              "  Q6 | Any full-sized candy bar Q6 | Black Jacks Q6 | Bonkers (the candy)  \\\n",
              "1                           JOY              MEH                  DESPAIR   \n",
              "3                           JOY              MEH                      MEH   \n",
              "4                           JOY          DESPAIR                      MEH   \n",
              "5                           JOY              NaN                      NaN   \n",
              "7                           JOY          DESPAIR                  DESPAIR   \n",
              "\n",
              "  Q6 | Bonkers (the board game) Q6 | Bottle Caps Q6 | Box'o'Raisins  \\\n",
              "1                       DESPAIR          DESPAIR            DESPAIR   \n",
              "3                       DESPAIR              MEH            DESPAIR   \n",
              "4                       DESPAIR              MEH            DESPAIR   \n",
              "5                           NaN              MEH                MEH   \n",
              "7                           MEH              JOY                MEH   \n",
              "\n",
              "  Q6 | Broken glow stick Q6 | Butterfinger  ... Q6 | Three Musketeers  \\\n",
              "1                DESPAIR           DESPAIR  ...                   JOY   \n",
              "3                DESPAIR               MEH  ...               DESPAIR   \n",
              "4                DESPAIR               MEH  ...                   JOY   \n",
              "5                DESPAIR               JOY  ...                   JOY   \n",
              "7                    JOY               JOY  ...                   JOY   \n",
              "\n",
              "  Q6 | Tolberone something or other Q6 | Trail Mix Q6 | Twix  \\\n",
              "1                               JOY        DESPAIR       JOY   \n",
              "3                               JOY            MEH       JOY   \n",
              "4                               JOY        DESPAIR       JOY   \n",
              "5                               JOY            MEH       JOY   \n",
              "7                               MEH        DESPAIR       JOY   \n",
              "\n",
              "  Q6 | Vials of pure high fructose corn syrup, for main-lining into your vein  \\\n",
              "1                                            DESPAIR                            \n",
              "3                                            DESPAIR                            \n",
              "4                                                MEH                            \n",
              "5                                            DESPAIR                            \n",
              "7                                                JOY                            \n",
              "\n",
              "  Q6 | Vicodin Q6 | Whatchamacallit Bars Q6 | White Bread  \\\n",
              "1      DESPAIR                   DESPAIR          DESPAIR   \n",
              "3          JOY                       JOY          DESPAIR   \n",
              "4          JOY                       JOY          DESPAIR   \n",
              "5      DESPAIR                       JOY          DESPAIR   \n",
              "7          MEH                   DESPAIR          DESPAIR   \n",
              "\n",
              "  Q6 | Whole Wheat anything Q6 | York Peppermint Patties  \n",
              "1                   DESPAIR                      DESPAIR  \n",
              "3                   DESPAIR                      DESPAIR  \n",
              "4                   DESPAIR                          JOY  \n",
              "5                   DESPAIR                          JOY  \n",
              "7                   DESPAIR                      DESPAIR  \n",
              "\n",
              "[5 rows x 103 columns]"
            ],
            "text/html": [
              "\n",
              "  <div id=\"df-82d8769d-2035-4099-b682-bac49e0472fa\">\n",
              "    <div class=\"colab-df-container\">\n",
              "      <div>\n",
              "<style scoped>\n",
              "    .dataframe tbody tr th:only-of-type {\n",
              "        vertical-align: middle;\n",
              "    }\n",
              "\n",
              "    .dataframe tbody tr th {\n",
              "        vertical-align: top;\n",
              "    }\n",
              "\n",
              "    .dataframe thead th {\n",
              "        text-align: right;\n",
              "    }\n",
              "</style>\n",
              "<table border=\"1\" class=\"dataframe\">\n",
              "  <thead>\n",
              "    <tr style=\"text-align: right;\">\n",
              "      <th></th>\n",
              "      <th>Q6 | 100 Grand Bar</th>\n",
              "      <th>Q6 | Anonymous brown globs that come in black and orange wrappers\\t(a.k.a. Mary Janes)</th>\n",
              "      <th>Q6 | Any full-sized candy bar</th>\n",
              "      <th>Q6 | Black Jacks</th>\n",
              "      <th>Q6 | Bonkers (the candy)</th>\n",
              "      <th>Q6 | Bonkers (the board game)</th>\n",
              "      <th>Q6 | Bottle Caps</th>\n",
              "      <th>Q6 | Box'o'Raisins</th>\n",
              "      <th>Q6 | Broken glow stick</th>\n",
              "      <th>Q6 | Butterfinger</th>\n",
              "      <th>...</th>\n",
              "      <th>Q6 | Three Musketeers</th>\n",
              "      <th>Q6 | Tolberone something or other</th>\n",
              "      <th>Q6 | Trail Mix</th>\n",
              "      <th>Q6 | Twix</th>\n",
              "      <th>Q6 | Vials of pure high fructose corn syrup, for main-lining into your vein</th>\n",
              "      <th>Q6 | Vicodin</th>\n",
              "      <th>Q6 | Whatchamacallit Bars</th>\n",
              "      <th>Q6 | White Bread</th>\n",
              "      <th>Q6 | Whole Wheat anything</th>\n",
              "      <th>Q6 | York Peppermint Patties</th>\n",
              "    </tr>\n",
              "  </thead>\n",
              "  <tbody>\n",
              "    <tr>\n",
              "      <th>1</th>\n",
              "      <td>MEH</td>\n",
              "      <td>DESPAIR</td>\n",
              "      <td>JOY</td>\n",
              "      <td>MEH</td>\n",
              "      <td>DESPAIR</td>\n",
              "      <td>DESPAIR</td>\n",
              "      <td>DESPAIR</td>\n",
              "      <td>DESPAIR</td>\n",
              "      <td>DESPAIR</td>\n",
              "      <td>DESPAIR</td>\n",
              "      <td>...</td>\n",
              "      <td>JOY</td>\n",
              "      <td>JOY</td>\n",
              "      <td>DESPAIR</td>\n",
              "      <td>JOY</td>\n",
              "      <td>DESPAIR</td>\n",
              "      <td>DESPAIR</td>\n",
              "      <td>DESPAIR</td>\n",
              "      <td>DESPAIR</td>\n",
              "      <td>DESPAIR</td>\n",
              "      <td>DESPAIR</td>\n",
              "    </tr>\n",
              "    <tr>\n",
              "      <th>3</th>\n",
              "      <td>MEH</td>\n",
              "      <td>DESPAIR</td>\n",
              "      <td>JOY</td>\n",
              "      <td>MEH</td>\n",
              "      <td>MEH</td>\n",
              "      <td>DESPAIR</td>\n",
              "      <td>MEH</td>\n",
              "      <td>DESPAIR</td>\n",
              "      <td>DESPAIR</td>\n",
              "      <td>MEH</td>\n",
              "      <td>...</td>\n",
              "      <td>DESPAIR</td>\n",
              "      <td>JOY</td>\n",
              "      <td>MEH</td>\n",
              "      <td>JOY</td>\n",
              "      <td>DESPAIR</td>\n",
              "      <td>JOY</td>\n",
              "      <td>JOY</td>\n",
              "      <td>DESPAIR</td>\n",
              "      <td>DESPAIR</td>\n",
              "      <td>DESPAIR</td>\n",
              "    </tr>\n",
              "    <tr>\n",
              "      <th>4</th>\n",
              "      <td>JOY</td>\n",
              "      <td>DESPAIR</td>\n",
              "      <td>JOY</td>\n",
              "      <td>DESPAIR</td>\n",
              "      <td>MEH</td>\n",
              "      <td>DESPAIR</td>\n",
              "      <td>MEH</td>\n",
              "      <td>DESPAIR</td>\n",
              "      <td>DESPAIR</td>\n",
              "      <td>MEH</td>\n",
              "      <td>...</td>\n",
              "      <td>JOY</td>\n",
              "      <td>JOY</td>\n",
              "      <td>DESPAIR</td>\n",
              "      <td>JOY</td>\n",
              "      <td>MEH</td>\n",
              "      <td>JOY</td>\n",
              "      <td>JOY</td>\n",
              "      <td>DESPAIR</td>\n",
              "      <td>DESPAIR</td>\n",
              "      <td>JOY</td>\n",
              "    </tr>\n",
              "    <tr>\n",
              "      <th>5</th>\n",
              "      <td>JOY</td>\n",
              "      <td>DESPAIR</td>\n",
              "      <td>JOY</td>\n",
              "      <td>NaN</td>\n",
              "      <td>NaN</td>\n",
              "      <td>NaN</td>\n",
              "      <td>MEH</td>\n",
              "      <td>MEH</td>\n",
              "      <td>DESPAIR</td>\n",
              "      <td>JOY</td>\n",
              "      <td>...</td>\n",
              "      <td>JOY</td>\n",
              "      <td>JOY</td>\n",
              "      <td>MEH</td>\n",
              "      <td>JOY</td>\n",
              "      <td>DESPAIR</td>\n",
              "      <td>DESPAIR</td>\n",
              "      <td>JOY</td>\n",
              "      <td>DESPAIR</td>\n",
              "      <td>DESPAIR</td>\n",
              "      <td>JOY</td>\n",
              "    </tr>\n",
              "    <tr>\n",
              "      <th>7</th>\n",
              "      <td>JOY</td>\n",
              "      <td>DESPAIR</td>\n",
              "      <td>JOY</td>\n",
              "      <td>DESPAIR</td>\n",
              "      <td>DESPAIR</td>\n",
              "      <td>MEH</td>\n",
              "      <td>JOY</td>\n",
              "      <td>MEH</td>\n",
              "      <td>JOY</td>\n",
              "      <td>JOY</td>\n",
              "      <td>...</td>\n",
              "      <td>JOY</td>\n",
              "      <td>MEH</td>\n",
              "      <td>DESPAIR</td>\n",
              "      <td>JOY</td>\n",
              "      <td>JOY</td>\n",
              "      <td>MEH</td>\n",
              "      <td>DESPAIR</td>\n",
              "      <td>DESPAIR</td>\n",
              "      <td>DESPAIR</td>\n",
              "      <td>DESPAIR</td>\n",
              "    </tr>\n",
              "  </tbody>\n",
              "</table>\n",
              "<p>5 rows × 103 columns</p>\n",
              "</div>\n",
              "      <button class=\"colab-df-convert\" onclick=\"convertToInteractive('df-82d8769d-2035-4099-b682-bac49e0472fa')\"\n",
              "              title=\"Convert this dataframe to an interactive table.\"\n",
              "              style=\"display:none;\">\n",
              "        \n",
              "  <svg xmlns=\"http://www.w3.org/2000/svg\" height=\"24px\"viewBox=\"0 0 24 24\"\n",
              "       width=\"24px\">\n",
              "    <path d=\"M0 0h24v24H0V0z\" fill=\"none\"/>\n",
              "    <path d=\"M18.56 5.44l.94 2.06.94-2.06 2.06-.94-2.06-.94-.94-2.06-.94 2.06-2.06.94zm-11 1L8.5 8.5l.94-2.06 2.06-.94-2.06-.94L8.5 2.5l-.94 2.06-2.06.94zm10 10l.94 2.06.94-2.06 2.06-.94-2.06-.94-.94-2.06-.94 2.06-2.06.94z\"/><path d=\"M17.41 7.96l-1.37-1.37c-.4-.4-.92-.59-1.43-.59-.52 0-1.04.2-1.43.59L10.3 9.45l-7.72 7.72c-.78.78-.78 2.05 0 2.83L4 21.41c.39.39.9.59 1.41.59.51 0 1.02-.2 1.41-.59l7.78-7.78 2.81-2.81c.8-.78.8-2.07 0-2.86zM5.41 20L4 18.59l7.72-7.72 1.47 1.35L5.41 20z\"/>\n",
              "  </svg>\n",
              "      </button>\n",
              "      \n",
              "  <style>\n",
              "    .colab-df-container {\n",
              "      display:flex;\n",
              "      flex-wrap:wrap;\n",
              "      gap: 12px;\n",
              "    }\n",
              "\n",
              "    .colab-df-convert {\n",
              "      background-color: #E8F0FE;\n",
              "      border: none;\n",
              "      border-radius: 50%;\n",
              "      cursor: pointer;\n",
              "      display: none;\n",
              "      fill: #1967D2;\n",
              "      height: 32px;\n",
              "      padding: 0 0 0 0;\n",
              "      width: 32px;\n",
              "    }\n",
              "\n",
              "    .colab-df-convert:hover {\n",
              "      background-color: #E2EBFA;\n",
              "      box-shadow: 0px 1px 2px rgba(60, 64, 67, 0.3), 0px 1px 3px 1px rgba(60, 64, 67, 0.15);\n",
              "      fill: #174EA6;\n",
              "    }\n",
              "\n",
              "    [theme=dark] .colab-df-convert {\n",
              "      background-color: #3B4455;\n",
              "      fill: #D2E3FC;\n",
              "    }\n",
              "\n",
              "    [theme=dark] .colab-df-convert:hover {\n",
              "      background-color: #434B5C;\n",
              "      box-shadow: 0px 1px 3px 1px rgba(0, 0, 0, 0.15);\n",
              "      filter: drop-shadow(0px 1px 2px rgba(0, 0, 0, 0.3));\n",
              "      fill: #FFFFFF;\n",
              "    }\n",
              "  </style>\n",
              "\n",
              "      <script>\n",
              "        const buttonEl =\n",
              "          document.querySelector('#df-82d8769d-2035-4099-b682-bac49e0472fa button.colab-df-convert');\n",
              "        buttonEl.style.display =\n",
              "          google.colab.kernel.accessAllowed ? 'block' : 'none';\n",
              "\n",
              "        async function convertToInteractive(key) {\n",
              "          const element = document.querySelector('#df-82d8769d-2035-4099-b682-bac49e0472fa');\n",
              "          const dataTable =\n",
              "            await google.colab.kernel.invokeFunction('convertToInteractive',\n",
              "                                                     [key], {});\n",
              "          if (!dataTable) return;\n",
              "\n",
              "          const docLinkHtml = 'Like what you see? Visit the ' +\n",
              "            '<a target=\"_blank\" href=https://colab.research.google.com/notebooks/data_table.ipynb>data table notebook</a>'\n",
              "            + ' to learn more about interactive tables.';\n",
              "          element.innerHTML = '';\n",
              "          dataTable['output_type'] = 'display_data';\n",
              "          await google.colab.output.renderOutput(dataTable, element);\n",
              "          const docLink = document.createElement('div');\n",
              "          docLink.innerHTML = docLinkHtml;\n",
              "          element.appendChild(docLink);\n",
              "        }\n",
              "      </script>\n",
              "    </div>\n",
              "  </div>\n",
              "  "
            ]
          },
          "metadata": {},
          "execution_count": 35
        }
      ],
      "source": [
        "\n",
        "candy_list= [x for x in df.columns if 'Q6' in str(x)]\n",
        "data=pd.DataFrame(df[candy_list])\n",
        "data.shape\n",
        "data = data.dropna(axis = 0,how='all')\n",
        "data.head(5)\n"
      ]
    },
    {
      "cell_type": "markdown",
      "metadata": {
        "id": "pTh0rX1Z26op"
      },
      "source": [
        "### 11 - clean ` dress` column\n",
        ">tip : you should choose which best value to put in place of these NaNs ( mode, unknown,other ....etc)"
      ]
    },
    {
      "cell_type": "code",
      "execution_count": null,
      "metadata": {
        "id": "l70F34u026op"
      },
      "outputs": [],
      "source": [
        "df['DRESS'].value_counts()\n",
        "\n",
        "\n",
        "df['DRESS'].fillna('WHITE AND GOLD',inplace=True)\n",
        "\n"
      ]
    },
    {
      "cell_type": "markdown",
      "metadata": {
        "id": "9j7fzEQa26op"
      },
      "source": [
        "### 12 - clean ` day` column\n",
        ">tip : you should choose which best value to put in place of these NaNs ( mode, unknown,other ....etc)"
      ]
    },
    {
      "cell_type": "code",
      "execution_count": null,
      "metadata": {
        "id": "_QUuloNf26oq"
      },
      "outputs": [],
      "source": [
        "df['DAY'].mode()\n",
        "df['DAY'].fillna('FRIDAY',inplace=True)"
      ]
    },
    {
      "cell_type": "markdown",
      "metadata": {
        "id": "meHo5WWe26oq"
      },
      "source": [
        "### 13 - check\n",
        "> after finish cleaning you should make sure your data is clean and that :\n",
        "- there is no wrong data type\n",
        "- there is no NaN values \n",
        "- all the column are cleaing and ready for the next step `EDA`"
      ]
    },
    {
      "cell_type": "markdown",
      "metadata": {
        "id": "DI1Nv4dC26os"
      },
      "source": [
        "### 14 - write a summary about all the cleaning steps "
      ]
    },
    {
      "cell_type": "code",
      "source": [
        "#first we read data then get general proprties about its attributes \n",
        "#then we change the columns names for easier access , we fill the na values with convenient data like the mode of the column , with fuzzywuzzy we change the similiar values with one right value "
      ],
      "metadata": {
        "id": "NBqZ8WyLEgM1"
      },
      "execution_count": null,
      "outputs": []
    },
    {
      "cell_type": "code",
      "execution_count": null,
      "metadata": {
        "id": "cEegxvyq26ot",
        "colab": {
          "base_uri": "https://localhost:8080/",
          "height": 375
        },
        "outputId": "e77ef026-559e-4242-8ba5-1d79040b9f73"
      },
      "outputs": [
        {
          "output_type": "error",
          "ename": "ValueError",
          "evalue": "ignored",
          "traceback": [
            "\u001b[0;31m---------------------------------------------------------------------------\u001b[0m",
            "\u001b[0;31mValueError\u001b[0m                                Traceback (most recent call last)",
            "\u001b[0;32m<ipython-input-55-ece7dbcd45fd>\u001b[0m in \u001b[0;36m<module>\u001b[0;34m\u001b[0m\n\u001b[1;32m      1\u001b[0m \u001b[0mdf\u001b[0m\u001b[0;34m[\u001b[0m\u001b[0;34m'GOING'\u001b[0m\u001b[0;34m]\u001b[0m\u001b[0;34m=\u001b[0m\u001b[0mdf\u001b[0m\u001b[0;34m[\u001b[0m\u001b[0;34m'GOING'\u001b[0m\u001b[0;34m]\u001b[0m\u001b[0;34m.\u001b[0m\u001b[0mindex\u001b[0m\u001b[0;34m\u001b[0m\u001b[0;34m\u001b[0m\u001b[0m\n\u001b[0;32m----> 2\u001b[0;31m \u001b[0msns\u001b[0m\u001b[0;34m.\u001b[0m\u001b[0mscatterplot\u001b[0m\u001b[0;34m(\u001b[0m\u001b[0mx\u001b[0m\u001b[0;34m=\u001b[0m\u001b[0;34m'GOING'\u001b[0m\u001b[0;34m,\u001b[0m\u001b[0my\u001b[0m\u001b[0;34m=\u001b[0m\u001b[0;34m'AGE'\u001b[0m\u001b[0;34m)\u001b[0m\u001b[0;34m\u001b[0m\u001b[0;34m\u001b[0m\u001b[0m\n\u001b[0m\u001b[1;32m      3\u001b[0m \u001b[0mplt\u001b[0m\u001b[0;34m.\u001b[0m\u001b[0mshow\u001b[0m\u001b[0;34m(\u001b[0m\u001b[0;34m)\u001b[0m\u001b[0;34m\u001b[0m\u001b[0;34m\u001b[0m\u001b[0m\n\u001b[1;32m      4\u001b[0m \u001b[0;34m\u001b[0m\u001b[0m\n",
            "\u001b[0;32m/usr/local/lib/python3.7/dist-packages/seaborn/_decorators.py\u001b[0m in \u001b[0;36minner_f\u001b[0;34m(*args, **kwargs)\u001b[0m\n\u001b[1;32m     44\u001b[0m             )\n\u001b[1;32m     45\u001b[0m         \u001b[0mkwargs\u001b[0m\u001b[0;34m.\u001b[0m\u001b[0mupdate\u001b[0m\u001b[0;34m(\u001b[0m\u001b[0;34m{\u001b[0m\u001b[0mk\u001b[0m\u001b[0;34m:\u001b[0m \u001b[0marg\u001b[0m \u001b[0;32mfor\u001b[0m \u001b[0mk\u001b[0m\u001b[0;34m,\u001b[0m \u001b[0marg\u001b[0m \u001b[0;32min\u001b[0m \u001b[0mzip\u001b[0m\u001b[0;34m(\u001b[0m\u001b[0msig\u001b[0m\u001b[0;34m.\u001b[0m\u001b[0mparameters\u001b[0m\u001b[0;34m,\u001b[0m \u001b[0margs\u001b[0m\u001b[0;34m)\u001b[0m\u001b[0;34m}\u001b[0m\u001b[0;34m)\u001b[0m\u001b[0;34m\u001b[0m\u001b[0;34m\u001b[0m\u001b[0m\n\u001b[0;32m---> 46\u001b[0;31m         \u001b[0;32mreturn\u001b[0m \u001b[0mf\u001b[0m\u001b[0;34m(\u001b[0m\u001b[0;34m**\u001b[0m\u001b[0mkwargs\u001b[0m\u001b[0;34m)\u001b[0m\u001b[0;34m\u001b[0m\u001b[0;34m\u001b[0m\u001b[0m\n\u001b[0m\u001b[1;32m     47\u001b[0m     \u001b[0;32mreturn\u001b[0m \u001b[0minner_f\u001b[0m\u001b[0;34m\u001b[0m\u001b[0;34m\u001b[0m\u001b[0m\n\u001b[1;32m     48\u001b[0m \u001b[0;34m\u001b[0m\u001b[0m\n",
            "\u001b[0;32m/usr/local/lib/python3.7/dist-packages/seaborn/relational.py\u001b[0m in \u001b[0;36mscatterplot\u001b[0;34m(x, y, hue, style, size, data, palette, hue_order, hue_norm, sizes, size_order, size_norm, markers, style_order, x_bins, y_bins, units, estimator, ci, n_boot, alpha, x_jitter, y_jitter, legend, ax, **kwargs)\u001b[0m\n\u001b[1;32m    810\u001b[0m         \u001b[0mx_bins\u001b[0m\u001b[0;34m=\u001b[0m\u001b[0mx_bins\u001b[0m\u001b[0;34m,\u001b[0m \u001b[0my_bins\u001b[0m\u001b[0;34m=\u001b[0m\u001b[0my_bins\u001b[0m\u001b[0;34m,\u001b[0m\u001b[0;34m\u001b[0m\u001b[0;34m\u001b[0m\u001b[0m\n\u001b[1;32m    811\u001b[0m         \u001b[0mestimator\u001b[0m\u001b[0;34m=\u001b[0m\u001b[0mestimator\u001b[0m\u001b[0;34m,\u001b[0m \u001b[0mci\u001b[0m\u001b[0;34m=\u001b[0m\u001b[0mci\u001b[0m\u001b[0;34m,\u001b[0m \u001b[0mn_boot\u001b[0m\u001b[0;34m=\u001b[0m\u001b[0mn_boot\u001b[0m\u001b[0;34m,\u001b[0m\u001b[0;34m\u001b[0m\u001b[0;34m\u001b[0m\u001b[0m\n\u001b[0;32m--> 812\u001b[0;31m         \u001b[0malpha\u001b[0m\u001b[0;34m=\u001b[0m\u001b[0malpha\u001b[0m\u001b[0;34m,\u001b[0m \u001b[0mx_jitter\u001b[0m\u001b[0;34m=\u001b[0m\u001b[0mx_jitter\u001b[0m\u001b[0;34m,\u001b[0m \u001b[0my_jitter\u001b[0m\u001b[0;34m=\u001b[0m\u001b[0my_jitter\u001b[0m\u001b[0;34m,\u001b[0m \u001b[0mlegend\u001b[0m\u001b[0;34m=\u001b[0m\u001b[0mlegend\u001b[0m\u001b[0;34m,\u001b[0m\u001b[0;34m\u001b[0m\u001b[0;34m\u001b[0m\u001b[0m\n\u001b[0m\u001b[1;32m    813\u001b[0m     )\n\u001b[1;32m    814\u001b[0m \u001b[0;34m\u001b[0m\u001b[0m\n",
            "\u001b[0;32m/usr/local/lib/python3.7/dist-packages/seaborn/relational.py\u001b[0m in \u001b[0;36m__init__\u001b[0;34m(self, data, variables, x_bins, y_bins, estimator, ci, n_boot, alpha, x_jitter, y_jitter, legend)\u001b[0m\n\u001b[1;32m    585\u001b[0m         )\n\u001b[1;32m    586\u001b[0m \u001b[0;34m\u001b[0m\u001b[0m\n\u001b[0;32m--> 587\u001b[0;31m         \u001b[0msuper\u001b[0m\u001b[0;34m(\u001b[0m\u001b[0;34m)\u001b[0m\u001b[0;34m.\u001b[0m\u001b[0m__init__\u001b[0m\u001b[0;34m(\u001b[0m\u001b[0mdata\u001b[0m\u001b[0;34m=\u001b[0m\u001b[0mdata\u001b[0m\u001b[0;34m,\u001b[0m \u001b[0mvariables\u001b[0m\u001b[0;34m=\u001b[0m\u001b[0mvariables\u001b[0m\u001b[0;34m)\u001b[0m\u001b[0;34m\u001b[0m\u001b[0;34m\u001b[0m\u001b[0m\n\u001b[0m\u001b[1;32m    588\u001b[0m \u001b[0;34m\u001b[0m\u001b[0m\n\u001b[1;32m    589\u001b[0m         \u001b[0mself\u001b[0m\u001b[0;34m.\u001b[0m\u001b[0malpha\u001b[0m \u001b[0;34m=\u001b[0m \u001b[0malpha\u001b[0m\u001b[0;34m\u001b[0m\u001b[0;34m\u001b[0m\u001b[0m\n",
            "\u001b[0;32m/usr/local/lib/python3.7/dist-packages/seaborn/_core.py\u001b[0m in \u001b[0;36m__init__\u001b[0;34m(self, data, variables)\u001b[0m\n\u001b[1;32m    603\u001b[0m     \u001b[0;32mdef\u001b[0m \u001b[0m__init__\u001b[0m\u001b[0;34m(\u001b[0m\u001b[0mself\u001b[0m\u001b[0;34m,\u001b[0m \u001b[0mdata\u001b[0m\u001b[0;34m=\u001b[0m\u001b[0;32mNone\u001b[0m\u001b[0;34m,\u001b[0m \u001b[0mvariables\u001b[0m\u001b[0;34m=\u001b[0m\u001b[0;34m{\u001b[0m\u001b[0;34m}\u001b[0m\u001b[0;34m)\u001b[0m\u001b[0;34m:\u001b[0m\u001b[0;34m\u001b[0m\u001b[0;34m\u001b[0m\u001b[0m\n\u001b[1;32m    604\u001b[0m \u001b[0;34m\u001b[0m\u001b[0m\n\u001b[0;32m--> 605\u001b[0;31m         \u001b[0mself\u001b[0m\u001b[0;34m.\u001b[0m\u001b[0massign_variables\u001b[0m\u001b[0;34m(\u001b[0m\u001b[0mdata\u001b[0m\u001b[0;34m,\u001b[0m \u001b[0mvariables\u001b[0m\u001b[0;34m)\u001b[0m\u001b[0;34m\u001b[0m\u001b[0;34m\u001b[0m\u001b[0m\n\u001b[0m\u001b[1;32m    606\u001b[0m \u001b[0;34m\u001b[0m\u001b[0m\n\u001b[1;32m    607\u001b[0m         \u001b[0;32mfor\u001b[0m \u001b[0mvar\u001b[0m\u001b[0;34m,\u001b[0m \u001b[0mcls\u001b[0m \u001b[0;32min\u001b[0m \u001b[0mself\u001b[0m\u001b[0;34m.\u001b[0m\u001b[0m_semantic_mappings\u001b[0m\u001b[0;34m.\u001b[0m\u001b[0mitems\u001b[0m\u001b[0;34m(\u001b[0m\u001b[0;34m)\u001b[0m\u001b[0;34m:\u001b[0m\u001b[0;34m\u001b[0m\u001b[0;34m\u001b[0m\u001b[0m\n",
            "\u001b[0;32m/usr/local/lib/python3.7/dist-packages/seaborn/_core.py\u001b[0m in \u001b[0;36massign_variables\u001b[0;34m(self, data, variables)\u001b[0m\n\u001b[1;32m    667\u001b[0m             \u001b[0mself\u001b[0m\u001b[0;34m.\u001b[0m\u001b[0minput_format\u001b[0m \u001b[0;34m=\u001b[0m \u001b[0;34m\"long\"\u001b[0m\u001b[0;34m\u001b[0m\u001b[0;34m\u001b[0m\u001b[0m\n\u001b[1;32m    668\u001b[0m             plot_data, variables = self._assign_variables_longform(\n\u001b[0;32m--> 669\u001b[0;31m                 \u001b[0mdata\u001b[0m\u001b[0;34m,\u001b[0m \u001b[0;34m**\u001b[0m\u001b[0mvariables\u001b[0m\u001b[0;34m,\u001b[0m\u001b[0;34m\u001b[0m\u001b[0;34m\u001b[0m\u001b[0m\n\u001b[0m\u001b[1;32m    670\u001b[0m             )\n\u001b[1;32m    671\u001b[0m \u001b[0;34m\u001b[0m\u001b[0m\n",
            "\u001b[0;32m/usr/local/lib/python3.7/dist-packages/seaborn/_core.py\u001b[0m in \u001b[0;36m_assign_variables_longform\u001b[0;34m(self, data, **kwargs)\u001b[0m\n\u001b[1;32m    901\u001b[0m \u001b[0;34m\u001b[0m\u001b[0m\n\u001b[1;32m    902\u001b[0m                 \u001b[0merr\u001b[0m \u001b[0;34m=\u001b[0m \u001b[0;34mf\"Could not interpret value `{val}` for parameter `{key}`\"\u001b[0m\u001b[0;34m\u001b[0m\u001b[0;34m\u001b[0m\u001b[0m\n\u001b[0;32m--> 903\u001b[0;31m                 \u001b[0;32mraise\u001b[0m \u001b[0mValueError\u001b[0m\u001b[0;34m(\u001b[0m\u001b[0merr\u001b[0m\u001b[0;34m)\u001b[0m\u001b[0;34m\u001b[0m\u001b[0;34m\u001b[0m\u001b[0m\n\u001b[0m\u001b[1;32m    904\u001b[0m \u001b[0;34m\u001b[0m\u001b[0m\n\u001b[1;32m    905\u001b[0m             \u001b[0;32melse\u001b[0m\u001b[0;34m:\u001b[0m\u001b[0;34m\u001b[0m\u001b[0;34m\u001b[0m\u001b[0m\n",
            "\u001b[0;31mValueError\u001b[0m: Could not interpret value `GOING` for parameter `x`"
          ]
        }
      ],
      "source": [
        "df['GOING']=df['GOING'].index \n",
        "sns.scatterplot(x='GOING',y='AGE')\n",
        "plt.show()\n",
        "\n"
      ]
    }
  ],
  "metadata": {
    "kernelspec": {
      "display_name": "Python 3",
      "language": "python",
      "name": "python3"
    },
    "language_info": {
      "codemirror_mode": {
        "name": "ipython",
        "version": 3
      },
      "file_extension": ".py",
      "mimetype": "text/x-python",
      "name": "python",
      "nbconvert_exporter": "python",
      "pygments_lexer": "ipython3",
      "version": "3.7.6"
    },
    "colab": {
      "provenance": [],
      "collapsed_sections": []
    }
  },
  "nbformat": 4,
  "nbformat_minor": 0
}